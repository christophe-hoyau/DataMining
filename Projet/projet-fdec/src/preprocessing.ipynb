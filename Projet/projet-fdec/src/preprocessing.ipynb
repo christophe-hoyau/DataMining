{
 "cells": [
  {
   "cell_type": "markdown",
   "metadata": {},
   "source": [
    "# Preprocessing of the dataset\n",
    "\n",
    "## 1: Importing the libraries"
   ]
  },
  {
   "cell_type": "code",
   "execution_count": 38,
   "metadata": {},
   "outputs": [],
   "source": [
    "import pandas as pd\n",
    "from sklearn.cluster import KMeans\n",
    "from sklearn.metrics import silhouette_score\n",
    "import matplotlib.pyplot as plt\n",
    "import numpy as np"
   ]
  },
  {
   "cell_type": "markdown",
   "metadata": {},
   "source": [
    "## 2: Importing the dataset"
   ]
  },
  {
   "cell_type": "code",
   "execution_count": 39,
   "metadata": {},
   "outputs": [],
   "source": [
    "df = pd.read_csv(r'C:\\Users\\etien\\OneDrive - Universite de Lorraine\\TELECOM\\Cours\\3A\\FDEC\\projet-fdec\\data\\original_data.csv')\n",
    "\n",
    "#print(df.head())\n"
   ]
  },
  {
   "cell_type": "markdown",
   "metadata": {},
   "source": [
    "## 3: Deleting the columns that are not required"
   ]
  },
  {
   "cell_type": "code",
   "execution_count": 40,
   "metadata": {},
   "outputs": [],
   "source": [
    "df = df.drop(columns=['ADR_SECTEUR', 'CODE', 'CODE_PARENT_DESC', 'IDENTIFIANTPLU', 'IDENTIFIANTPLU', 'STADEDEDEVELOPPEMENT'])\n",
    "\n",
    "#print(df.head())"
   ]
  },
  {
   "cell_type": "markdown",
   "metadata": {},
   "source": [
    "### Schema of the dataset\n",
    "| VARIABLE                              | TYPE       | EXEMPLE                                   | TRANSFORMATION        |\n",
    "|---------------------------------------|------------|-------------------------------------------|-----------------------|\n",
    "| ANNEEDEPLANTATION                     | numérique  | 2014                                      | /                     |\n",
    "| ANNEEREALISATIONDIAGNOSTIC           | numérique  | 2014                                      | /                     |\n",
    "| ANNEETRAVAUXPRECONISESDIAG           | numérique  | 2019                                      | /                     |\n",
    "| CODE_PARENT                           | nominale   | ESP385                                    | Label Encoding        |\n",
    "| DIAMETREARBREAUNMETRE                 | ordinale   | 10 à 20 cm                               | Ordinal Encoding      |\n",
    "| ESPECE                                | nominale   | cordata                                   | Label Encoding        |\n",
    "| FREQUENTATIONCIBLE                    | ordinale   | passages fréquents ou arrêts             | Ordinal Encoding      |\n",
    "| GENRE_BOTA                            | nominale   | Alnus                                     | Label Encoding        |\n",
    "| INTITULEPROTECTIONPLU                 | nominale   | L 1231.7                                  | One-Hot Encoding      |\n",
    "| NOTEDIAGNOSTIC                        | ordinale   | Arbre d'avenir incertain                  | Ordinal Encoding      |\n",
    "| PRIORITEDERENOUVELLEMENT              | ordinale   | de 11 à 20 ans                           | Ordinal Encoding      |\n",
    "| RAISONDEPLANTATION                    | nominale   | Nouveau                                   | Label Encoding        |\n",
    "| REMARQUES                             | textuelle  | var. Wieri                                | /                     |\n",
    "| SOUS_CATEGORIE_DESC                   | nominale   | Arbre d'enceintes fermées                 | One-Hot Encoding      |\n",
    "| STADEDEVELOPPEMENTDIAG                | ordinale   | Arbre adulte                              | Ordinal Encoding      |\n",
    "| TRAITEMENTCHENILLES                   | ordinale   | Moyenne                                   | Ordinal Encoding      |\n",
    "| TRAVAUXPRECONISESDIAG                 | nominale   | Taille formation et mise au gabarit      | Label Encoding        |\n",
    "| TROTTOIR                              | binaire    | non                                       | One-Hot Encoding      |\n",
    "| TYPEIMPLANTATIONPLU                   | nominale   | Alignement                                | Label Encoding        |\n",
    "| VARIETE                               | nominale   | Pendula                                   | One-Hot Encoding      |\n",
    "| VIGUEUR                               | ordinale   | vigueur intermédiaire                     | Ordinal Encoding      |\n"
   ]
  },
  {
   "cell_type": "markdown",
   "metadata": {},
   "source": [
    "## 4: Checking for missing values"
   ]
  },
  {
   "cell_type": "code",
   "execution_count": null,
   "metadata": {},
   "outputs": [],
   "source": [
    "df.replace('?', np.nan, inplace=True)\n",
    "missing_values = df.isna().sum()\n",
    "print(missing_values)"
   ]
  },
  {
   "cell_type": "markdown",
   "metadata": {},
   "source": [
    "## 5: Dealing with missing values"
   ]
  },
  {
   "cell_type": "code",
   "execution_count": 42,
   "metadata": {},
   "outputs": [],
   "source": [
    "# Fonction pour corriger les valeurs manquantes\n",
    "def impute_missing_values(df):\n",
    "    for column in df.columns:\n",
    "        # Vérifie si la colonne est censée être numérique\n",
    "        if column in ['ANNEEDEPLANTATION', 'ANNEEREALISATIONDIAGNOSTIC', 'ANNEETRAVAUXPRECONISESDIAG']:\n",
    "            # Convertit la colonne en numérique, remplaçant les valeurs non numériques par NaN\n",
    "            df[column] = pd.to_numeric(df[column], errors='coerce')\n",
    "            mean_value = round(df[column].mean())\n",
    "            df[column] = df[column].fillna(mean_value)\n",
    "        else:\n",
    "            missing_percentage = df[column].isnull().mean() * 100\n",
    "            if missing_percentage > 3:\n",
    "                df[column] = df[column].fillna('valeur manquante')\n",
    "            else:\n",
    "                mode_value = df[column].mode()[0]\n",
    "                df[column] = df[column].fillna(mode_value)\n",
    "\n",
    "\n",
    "# Appel de la fonction\n",
    "impute_missing_values(df)"
   ]
  },
  {
   "cell_type": "code",
   "execution_count": 43,
   "metadata": {},
   "outputs": [],
   "source": [
    "# Exporter le DataFrame en CSV\n",
    "df.to_csv(r'C:\\Users\\etien\\OneDrive - Universite de Lorraine\\TELECOM\\Cours\\3A\\FDEC\\projet-fdec\\data\\preprocessed_data.csv', index=False)\n"
   ]
  }
 ],
 "metadata": {
  "kernelspec": {
   "display_name": "Python 3",
   "language": "python",
   "name": "python3"
  },
  "language_info": {
   "codemirror_mode": {
    "name": "ipython",
    "version": 3
   },
   "file_extension": ".py",
   "mimetype": "text/x-python",
   "name": "python",
   "nbconvert_exporter": "python",
   "pygments_lexer": "ipython3",
   "version": "3.11.5"
  }
 },
 "nbformat": 4,
 "nbformat_minor": 2
}
